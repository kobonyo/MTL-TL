{
 "cells": [
  {
   "cell_type": "markdown",
   "metadata": {},
   "source": [
    "# Multi-task Learning Model"
   ]
  },
  {
   "cell_type": "code",
   "execution_count": 2,
   "metadata": {},
   "outputs": [],
   "source": [
    "import torch\n",
    "import torch.nn as nn\n",
    "import torch.nn.functional as F\n",
    "import torch.optim as optim\n",
    "import sys\n",
    "sys.path.append(\"..\")\n",
    "import math\n",
    "import os \n",
    "import numpy as np\n",
    "from torch.utils.data import Dataset,DataLoader,SubsetRandomSampler\n",
    "from torchvision import transforms\n",
    "import torchvision.transforms.functional as F\n",
    "from models.resnext import *\n",
    "import torch.nn as nn\n",
    "import pandas as pd\n",
    "import matplotlib.pyplot as plt\n",
    "from sklearn.utils import shuffle\n",
    "import cv2\n",
    "%matplotlib inline"
   ]
  },
  {
   "cell_type": "code",
   "execution_count": 3,
   "metadata": {},
   "outputs": [],
   "source": [
    "net = ResNeXt29_2x64d()\n",
    "device = 'cuda' if torch.cuda.is_available() else 'cpu'\n",
    "net = net.to(device)"
   ]
  },
  {
   "cell_type": "code",
   "execution_count": 9,
   "metadata": {},
   "outputs": [],
   "source": [
    "class CreateDataset(Dataset):\n",
    "    def __init__(self, df_data, data_dir = PATH, transform=None):\n",
    "        super().__init__()\n",
    "        self.df = df_data.values\n",
    "        self.data_dir = data_dir\n",
    "        self.transform = transform\n",
    "\n",
    "    def __len__(self):\n",
    "        return len(self.df)\n",
    "    \n",
    "    def __getitem__(self, index):\n",
    "        img_name,label = self.df[index]\n",
    "        img_path = os.path.join(self.data_dir, img_name+'.tif')\n",
    "        im = cv2.imread(img_path)\n",
    "        image = cv2.resize(im,(32,32))\n",
    "        if self.transform is not None:\n",
    "            image = self.transform(image)\n",
    "        return image, label\n",
    "    "
   ]
  },
  {
   "cell_type": "code",
   "execution_count": 11,
   "metadata": {},
   "outputs": [],
   "source": [
    "class Flatten(nn.Module):\n",
    "    def forward(self, input):        \n",
    "        return input.view(input.size(0), -1)\n",
    "    \n",
    "class MakeNetwork(nn.Module):\n",
    "    def __init__(self,units):\n",
    "        super(MakeNetworks,self).__init__()\n",
    "        self.units = units\n",
    "        self.m = list(net.children())[0]    \n",
    "        self.mbase = nn.Sequential(*list(self.m.children())[:-1])              \n",
    "        self.mds = nn.ModuleList([self.mh(unit) for unit in self.units])\n",
    "    def model_heads(self,n = 2):\n",
    "        head = nn.Sequential(nn.AdaptiveAvgPool2d(2),\n",
    "                           Flatten(),\n",
    "                           nn.Linear(1024*2*2,512),\n",
    "                           nn.Dropout(0.5)\n",
    "                           nn.BatchNorm1d(512),\n",
    "                           nn.ReLU(inplace=True),\n",
    "                           nn.Dropout(0.5),\n",
    "                           nn.Linear(512,128),\n",
    "                           nn.BatchNorm1d(128),\n",
    "                           nn.ReLU(inplace=True),\n",
    "                           nn.Linear(128,n))\n",
    "        return nn.Sequential(*list(head.children()))\n",
    "    \n",
    "    def forward(self,x,idx): \n",
    "        base = self.mbase(x)      \n",
    "        for ix,m in enumerate(self.mds.to(device)):\n",
    "            if idx[0]==ix:\n",
    "                model = m     \n",
    "        return model(base)\n",
    "    "
   ]
  },
  {
   "cell_type": "code",
   "execution_count": null,
   "metadata": {},
   "outputs": [],
   "source": [
    "mtl_model = MakeNetworks([2,2,7]);mtl_model = mtl_model.to(device)"
   ]
  }
 ],
 "metadata": {
  "kernelspec": {
   "display_name": "Python 3",
   "language": "python",
   "name": "python3"
  },
  "language_info": {
   "codemirror_mode": {
    "name": "ipython",
    "version": 3
   },
   "file_extension": ".py",
   "mimetype": "text/x-python",
   "name": "python",
   "nbconvert_exporter": "python",
   "pygments_lexer": "ipython3",
   "version": "3.6.10"
  }
 },
 "nbformat": 4,
 "nbformat_minor": 2
}
